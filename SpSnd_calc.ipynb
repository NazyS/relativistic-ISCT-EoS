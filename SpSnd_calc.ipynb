{
 "metadata": {
  "language_info": {
   "codemirror_mode": {
    "name": "ipython",
    "version": 3
   },
   "file_extension": ".py",
   "mimetype": "text/x-python",
   "name": "python",
   "nbconvert_exporter": "python",
   "pygments_lexer": "ipython3",
   "version": "3.6.6-final"
  },
  "orig_nbformat": 2,
  "kernelspec": {
   "name": "python36664bitf12d3c32cbcc466ab9b2c526ed915d97",
   "display_name": "Python 3.6.6 64-bit"
  }
 },
 "nbformat": 4,
 "nbformat_minor": 2,
 "cells": [
  {
   "cell_type": "code",
   "execution_count": 1,
   "metadata": {},
   "outputs": [],
   "source": [
    "import Relativistic_ISCT"
   ]
  },
  {
   "cell_type": "code",
   "execution_count": 31,
   "metadata": {},
   "outputs": [
    {
     "output_type": "execute_result",
     "data": {
      "text/plain": [
       "<module 'Relativistic_ISCT' from 'd:\\\\Users\\\\nsyak\\\\Desktop\\\\Speed_of_Sound_and_V_eff\\\\Relativistic_ISCT.py'>"
      ]
     },
     "metadata": {},
     "execution_count": 31
    }
   ],
   "source": [
    "import importlib\n",
    "importlib.reload(Relativistic_ISCT)"
   ]
  },
  {
   "cell_type": "code",
   "execution_count": 32,
   "metadata": {},
   "outputs": [],
   "source": [
    "eos = Relativistic_ISCT.Relativistic_ISCT(eos='ISCT')"
   ]
  },
  {
   "cell_type": "code",
   "execution_count": 33,
   "metadata": {},
   "outputs": [
    {
     "output_type": "execute_result",
     "data": {
      "text/plain": [
       "1.14"
      ]
     },
     "metadata": {},
     "execution_count": 33
    }
   ],
   "source": [
    "eos.alpha_p"
   ]
  },
  {
   "cell_type": "code",
   "execution_count": 18,
   "metadata": {},
   "outputs": [
    {
     "output_type": "stream",
     "name": "stdout",
     "text": [
      "error for T=-1.0, mu=0.0\n"
     ]
    }
   ],
   "source": [
    "import numpy as np\n",
    "\n",
    "Tdata =  np.linspace(1., 1000., 20)\n",
    "cs_data = [eos.speed_of_s_sq(T, 0.) for T in Tdata]"
   ]
  },
  {
   "cell_type": "code",
   "execution_count": 36,
   "metadata": {},
   "outputs": [
    {
     "output_type": "execute_result",
     "data": {
      "text/plain": [
       "0.09690537740409906"
      ]
     },
     "metadata": {},
     "execution_count": 36
    }
   ],
   "source": [
    "eos.speed_of_s_sq_MULT(100., 0.)"
   ]
  },
  {
   "cell_type": "code",
   "execution_count": null,
   "metadata": {},
   "outputs": [],
   "source": []
  }
 ]
}